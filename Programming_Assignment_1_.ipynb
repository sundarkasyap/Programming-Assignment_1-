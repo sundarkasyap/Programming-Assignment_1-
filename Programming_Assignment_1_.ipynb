{
  "nbformat": 4,
  "nbformat_minor": 0,
  "metadata": {
    "colab": {
      "provenance": []
    },
    "kernelspec": {
      "name": "python3",
      "display_name": "Python 3"
    },
    "language_info": {
      "name": "python"
    }
  },
  "cells": [
    {
      "cell_type": "code",
      "execution_count": 1,
      "metadata": {
        "colab": {
          "base_uri": "https://localhost:8080/"
        },
        "id": "Liv0yc_0S7g9",
        "outputId": "45d24a92-1d92-4a43-9177-e13cee2dd027"
      },
      "outputs": [
        {
          "output_type": "stream",
          "name": "stdout",
          "text": [
            "Hello Python\n"
          ]
        }
      ],
      "source": [
        "#1\n",
        "print('Hello Python')"
      ]
    },
    {
      "cell_type": "code",
      "source": [
        "#2\n",
        "a= int(input('enter ur first number '))\n",
        "b= int(input('enter ur second number '))\n",
        "\n",
        "if b==0:\n",
        "  add = a+b\n",
        "  print('addition ',add)\n",
        "  print('we. cannot divide aything with 0')\n",
        "\n",
        "else :\n",
        "  add = a+b\n",
        "  dev = a/b\n",
        "  print('addition ',add)\n",
        "  print('dev ',dev)\n",
        "\n"
      ],
      "metadata": {
        "colab": {
          "base_uri": "https://localhost:8080/"
        },
        "id": "XfWnaFJeTmz7",
        "outputId": "cfa80a2d-4c74-4d96-aab2-ce4bc942c5a0"
      },
      "execution_count": 16,
      "outputs": [
        {
          "output_type": "stream",
          "name": "stdout",
          "text": [
            "enter ur first number 0\n",
            "enter ur second number 3\n",
            "addition  3\n",
            "dev  0.0\n"
          ]
        }
      ]
    },
    {
      "cell_type": "code",
      "source": [
        "#3\n",
        "s = int(input('enter the base '))\n",
        "r = int(input('enter the height '))\n",
        "\n",
        "area = 0.5*(s*r)\n",
        "print('area of triangel is ',area)"
      ],
      "metadata": {
        "colab": {
          "base_uri": "https://localhost:8080/"
        },
        "id": "31M-JPNBYa3x",
        "outputId": "cccaeaa7-bf4e-42d9-bb73-798b571a7217"
      },
      "execution_count": 20,
      "outputs": [
        {
          "output_type": "stream",
          "name": "stdout",
          "text": [
            "enter the base 20\n",
            "enter the height 10\n",
            "area of triangel is  100.0\n"
          ]
        }
      ]
    },
    {
      "cell_type": "code",
      "source": [
        "#4\n",
        "a= int(input('enter ur first number '))\n",
        "b= int(input('enter ur second number '))\n",
        "\n",
        "print('current value of a is ',a,'current value of b is ',b)\n",
        "\n",
        "a= a+b\n",
        "b= a+b+a\n",
        "\n",
        "print('value of a after swapping is ',a,'value of b after swapping is ',b)"
      ],
      "metadata": {
        "colab": {
          "base_uri": "https://localhost:8080/"
        },
        "id": "aCvzkANYYgjY",
        "outputId": "0849d778-b508-4062-ceb2-dd850c83d2fc"
      },
      "execution_count": 29,
      "outputs": [
        {
          "output_type": "stream",
          "name": "stdout",
          "text": [
            "enter ur first number 1\n",
            "enter ur second number 4\n",
            "current value of a is  1 current value of b is  4\n",
            "value of a after swapping is  5 value of b after swapping is  14\n"
          ]
        }
      ]
    },
    {
      "cell_type": "code",
      "source": [
        "#5\n",
        "import random\n",
        "a = int(input('enter your ranger'))\n",
        "\n",
        "l = []\n",
        "for i in range(a):\n",
        "  l.append(i)\n",
        "\n",
        "randon_number = random.choice(l)\n",
        "print('randon nuber', randon_number )"
      ],
      "metadata": {
        "colab": {
          "base_uri": "https://localhost:8080/"
        },
        "id": "E_773gD4bEve",
        "outputId": "38ef165b-6bd0-4164-b8f2-d588e2b6b7fe"
      },
      "execution_count": 46,
      "outputs": [
        {
          "output_type": "stream",
          "name": "stdout",
          "text": [
            "enter your ranger4\n",
            "randon nuber 2\n"
          ]
        }
      ]
    },
    {
      "cell_type": "code",
      "source": [],
      "metadata": {
        "id": "rwBPQvTweRk-"
      },
      "execution_count": 42,
      "outputs": []
    }
  ]
}